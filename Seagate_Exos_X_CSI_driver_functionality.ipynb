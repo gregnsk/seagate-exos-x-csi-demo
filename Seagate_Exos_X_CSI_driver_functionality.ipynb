{
 "cells": [
  {
   "cell_type": "markdown",
   "id": "c251359d",
   "metadata": {},
   "source": [
    "# Seagate Exos X CSI driver functionality\n",
    "Contact: Gregory Touretsky, gregory.touretsky@seagate.com\n",
    "\n",
    "Seagate Exos X CSI driver supports Seagate Gallium controllers (including OEM versions).\n",
    "\n",
    "Prerequisites: Exos X enclosure is configured with iSCSI. Pool[s] are created"
   ]
  },
  {
   "cell_type": "markdown",
   "id": "7cec6b4e",
   "metadata": {},
   "source": [
    "## Review Kubernetes cluster"
   ]
  },
  {
   "cell_type": "code",
   "execution_count": 1,
   "id": "cfe173d7",
   "metadata": {},
   "outputs": [
    {
     "name": "stdout",
     "output_type": "stream",
     "text": [
      "NAME          STATUS   ROLES                  AGE     VERSION\n",
      "ssc-vm-3914   Ready    control-plane,master   7d15h   v1.21.0\n",
      "ssc-vm-3915   Ready    <none>                 7d15h   v1.21.0\n"
     ]
    }
   ],
   "source": [
    "# Current CSI driver functionality should work with Kubernetes v.1.20 and higher\n",
    "# Some features may not work with older versions of Kubernetes\n",
    "kubectl get nodes"
   ]
  },
  {
   "cell_type": "markdown",
   "id": "34097f75",
   "metadata": {},
   "source": [
    "## Install CSI driver using Helm"
   ]
  },
  {
   "cell_type": "code",
   "execution_count": 2,
   "id": "8e92e280",
   "metadata": {},
   "outputs": [
    {
     "name": "stdout",
     "output_type": "stream",
     "text": [
      "NAME: seagate-csi\n",
      "LAST DEPLOYED: Thu Jul  8 10:07:45 2021\n",
      "NAMESPACE: seagate\n",
      "STATUS: deployed\n",
      "REVISION: 1\n",
      "TEST SUITE: None\n",
      "NOTES:\n",
      "Thank you for using Seagate Exos X provisioner. It will be up and running shortly.\n",
      "Run 'kubectl get pods' to verify that the new pods have a 'STATUS' of 'Running'.\n",
      "\n",
      "In order to dynamically provide a persistant volume, create a storage class first.\n",
      "Please refer to this example to do so: https://github.com/Seagate/seagate-exos-x-csi/blob/main/example/storage-class.yaml\n"
     ]
    }
   ],
   "source": [
    "# As a prerequisite, clone Seagate Exos X CSI driver from https://github.com/Seagate/seagate-exos-x-csi\n",
    "# Container images will be pulled from GitHub Container Repository\n",
    "helm install seagate-csi -n seagate --create-namespace \\\n",
    "    ../../seagate-exos-x-csi/helm/csi-charts \\\n",
    "    -f ../../seagate-exos-x-csi/helm/csi-charts/values.yaml"
   ]
  },
  {
   "cell_type": "code",
   "execution_count": 3,
   "id": "3ed52713",
   "metadata": {},
   "outputs": [
    {
     "name": "stdout",
     "output_type": "stream",
     "text": [
      "NAME                                                    READY   STATUS    RESTARTS   AGE   IP               NODE          NOMINATED NODE   READINESS GATES\n",
      "seagate-exos-x-csi-controller-server-66db6569fb-tf9sz   5/5     Running   0          55s   10.244.1.25      ssc-vm-3915   <none>           <none>\n",
      "seagate-exos-x-csi-node-server-4xfnh                    3/3     Running   0          55s   10.230.241.7     ssc-vm-3915   <none>           <none>\n",
      "seagate-exos-x-csi-node-server-kz78z                    3/3     Running   0          55s   10.230.242.215   ssc-vm-3914   <none>           <none>\n"
     ]
    }
   ],
   "source": [
    "# We recommend to install CSI driver in a dedicated namespace. Here it's running in a namespace \"seagate\"\n",
    "# There is a single Controller (seagate-csi-controller) instance per cluster \n",
    "# and a single Node (seagate-csi-node) instance per worker node \n",
    "kubectl get pods -n seagate -o wide"
   ]
  },
  {
   "cell_type": "markdown",
   "id": "2f5c5c8c",
   "metadata": {},
   "source": [
    "## Create a secret for every managed enclosure"
   ]
  },
  {
   "cell_type": "code",
   "execution_count": 9,
   "id": "8e88f2c3",
   "metadata": {},
   "outputs": [
    {
     "name": "stdout",
     "output_type": "stream",
     "text": [
      "secret/seagate-enclosure001 created\n"
     ]
    }
   ],
   "source": [
    "# Secret contains base64-encoded management IP and credentials for the enclosure\n",
    "# For security reasons, this secret should be created in the same namespace where the driver is installed (seagate)\n",
    "kubectl create -f iscsi/secret-exos-x.yaml"
   ]
  },
  {
   "cell_type": "markdown",
   "id": "e358c858",
   "metadata": {},
   "source": [
    "## Create a Storage Class"
   ]
  },
  {
   "cell_type": "code",
   "execution_count": 4,
   "id": "752da11a",
   "metadata": {},
   "outputs": [
    {
     "name": "stdout",
     "output_type": "stream",
     "text": [
      "apiVersion: storage.k8s.io/v1\n",
      "kind: StorageClass\n",
      "provisioner: csi-exos-x.seagate.com\n",
      "allowVolumeExpansion: true\n",
      "metadata:\n",
      "  name: seagate-storageclass-demo\n",
      "parameters:\n",
      "  csi.storage.k8s.io/provisioner-secret-name: seagate-enclosure001\n",
      "  csi.storage.k8s.io/provisioner-secret-namespace: seagate\n",
      "  csi.storage.k8s.io/controller-publish-secret-name: seagate-enclosure001\n",
      "  csi.storage.k8s.io/controller-publish-secret-namespace: seagate\n",
      "  csi.storage.k8s.io/controller-expand-secret-name: seagate-enclosure001\n",
      "  csi.storage.k8s.io/controller-expand-secret-namespace: seagate\n",
      "  fsType: ext4 # Desired filesystem\n",
      "  iqn: iqn.2015-11.com.hpe:storage.msa2040.163639c929 # Gallium 10.235.212.197 Appliance IQN\n",
      "  pool: A # Pool for volumes provisioning\n",
      "  portals: 10.235.212.199,10.235.212.200 # Comma separated list of portal ips. Gallium 10.235.212.197 Ports A1, B1\n"
     ]
    }
   ],
   "source": [
    "# Some of these parameters (such as iqn and portals) will be deprecated in the future release\n",
    "# Other parameters will be added\n",
    "cat iscsi/storage-class.yaml"
   ]
  },
  {
   "cell_type": "code",
   "execution_count": 5,
   "id": "d9c78c3a",
   "metadata": {},
   "outputs": [
    {
     "name": "stdout",
     "output_type": "stream",
     "text": [
      "storageclass.storage.k8s.io/seagate-storageclass-demo created\n"
     ]
    }
   ],
   "source": [
    "kubectl create -f iscsi/storage-class.yaml"
   ]
  },
  {
   "cell_type": "code",
   "execution_count": 6,
   "id": "391ea4b3",
   "metadata": {},
   "outputs": [
    {
     "name": "stdout",
     "output_type": "stream",
     "text": [
      "NAME                        PROVISIONER              RECLAIMPOLICY   VOLUMEBINDINGMODE   ALLOWVOLUMEEXPANSION   AGE\n",
      "seagate-storageclass-demo   csi-exos-x.seagate.com   Delete          Immediate           true                   4s\n"
     ]
    }
   ],
   "source": [
    "kubectl get sc seagate-storageclass-demo"
   ]
  },
  {
   "cell_type": "markdown",
   "id": "9d1fa7c5",
   "metadata": {},
   "source": [
    "## Validate lack of PVCs and pods in the demo space"
   ]
  },
  {
   "cell_type": "code",
   "execution_count": 7,
   "id": "b84fb8ea",
   "metadata": {},
   "outputs": [
    {
     "name": "stdout",
     "output_type": "stream",
     "text": [
      "No resources found in demo namespace.\n"
     ]
    }
   ],
   "source": [
    "# In this demo PVCs and pods will be created in a namespace \"demo\"\n",
    "# At the beginning of the demo this namespace is empty\n",
    "kubectl get pvc,volumesnapshot,pod -n demo"
   ]
  },
  {
   "cell_type": "markdown",
   "id": "9dc0c84d",
   "metadata": {},
   "source": [
    "## Create a Persistent Volume Claim"
   ]
  },
  {
   "cell_type": "code",
   "execution_count": 16,
   "id": "a35257fc",
   "metadata": {},
   "outputs": [
    {
     "name": "stdout",
     "output_type": "stream",
     "text": [
      "apiVersion: v1\n",
      "kind: PersistentVolumeClaim\n",
      "metadata:\n",
      "  name: seagate-pvc-demo\n",
      "  namespace: demo\n",
      "spec:\n",
      "  accessModes:\n",
      "    - ReadWriteOnce\n",
      "  storageClassName: seagate-storageclass-demo\n",
      "  resources:\n",
      "    requests:\n",
      "      storage: 1Gi\n"
     ]
    }
   ],
   "source": [
    "cat iscsi/pvc.yaml"
   ]
  },
  {
   "cell_type": "code",
   "execution_count": 17,
   "id": "81cb6311",
   "metadata": {},
   "outputs": [
    {
     "name": "stdout",
     "output_type": "stream",
     "text": [
      "persistentvolumeclaim/seagate-pvc-demo created\n"
     ]
    }
   ],
   "source": [
    "kubectl create -f iscsi/pvc.yaml"
   ]
  },
  {
   "cell_type": "code",
   "execution_count": 18,
   "id": "d5bf17a0",
   "metadata": {},
   "outputs": [
    {
     "name": "stdout",
     "output_type": "stream",
     "text": [
      "NAME               STATUS   VOLUME                                     CAPACITY   ACCESS MODES   STORAGECLASS                AGE\n",
      "seagate-pvc-demo   Bound    pvc-fe11b209-b694-4e37-9c8d-5dc1b020ef34   1Gi        RWO            seagate-storageclass-demo   32s\n"
     ]
    }
   ],
   "source": [
    "kubectl get pvc seagate-pvc-demo -n demo"
   ]
  },
  {
   "cell_type": "markdown",
   "id": "69d66958",
   "metadata": {},
   "source": [
    "## Check newly created persistent volume in the enclosure UI\n",
    "![Volume Screenshot](pics/new_pv.png)"
   ]
  },
  {
   "cell_type": "markdown",
   "id": "0848937a",
   "metadata": {},
   "source": [
    "## Create a snapshot class"
   ]
  },
  {
   "cell_type": "code",
   "execution_count": 19,
   "id": "c25a4519",
   "metadata": {},
   "outputs": [
    {
     "name": "stdout",
     "output_type": "stream",
     "text": [
      "apiVersion: snapshot.storage.k8s.io/v1\n",
      "kind: VolumeSnapshotClass\n",
      "metadata:\n",
      "  name: seagate-snapshotclass-demo\n",
      "driver: systems.csi.seagate.io\n",
      "deletionPolicy: Delete\n",
      "parameters:\n",
      "  csi.storage.k8s.io/snapshotter-secret-name: seagate-enclosure001\n",
      "  csi.storage.k8s.io/snapshotter-secret-namespace: seagate\n",
      "\n"
     ]
    }
   ],
   "source": [
    "cat iscsi/snapshot-class.yaml"
   ]
  },
  {
   "cell_type": "code",
   "execution_count": 20,
   "id": "d958b306",
   "metadata": {},
   "outputs": [
    {
     "name": "stdout",
     "output_type": "stream",
     "text": [
      "volumesnapshotclass.snapshot.storage.k8s.io/seagate-snapshotclass-demo created\n"
     ]
    }
   ],
   "source": [
    "kubectl create -f iscsi/snapshot-class.yaml"
   ]
  },
  {
   "cell_type": "code",
   "execution_count": 21,
   "id": "3a503455",
   "metadata": {},
   "outputs": [
    {
     "name": "stdout",
     "output_type": "stream",
     "text": [
      "NAME                         DRIVER                   DELETIONPOLICY   AGE\n",
      "seagate-snapshotclass-demo   systems.csi.seagate.io   Delete           14s\n"
     ]
    }
   ],
   "source": [
    "kubectl get volumesnapshotclass"
   ]
  },
  {
   "cell_type": "markdown",
   "id": "ca4e66e8",
   "metadata": {},
   "source": [
    "## Create a snapshot"
   ]
  },
  {
   "cell_type": "code",
   "execution_count": 22,
   "id": "48891fbe",
   "metadata": {},
   "outputs": [
    {
     "name": "stdout",
     "output_type": "stream",
     "text": [
      "apiVersion: snapshot.storage.k8s.io/v1\n",
      "kind: VolumeSnapshot\n",
      "metadata:\n",
      "  name: seagate-pvc-snapshot-demo\n",
      "  namespace: demo\n",
      "spec:\n",
      "  volumeSnapshotClassName: seagate-snapshotclass-demo\n",
      "  source:\n",
      "    persistentVolumeClaimName: seagate-pvc-demo\n"
     ]
    }
   ],
   "source": [
    "cat iscsi/snapshot.yaml"
   ]
  },
  {
   "cell_type": "code",
   "execution_count": 23,
   "id": "146a8312",
   "metadata": {},
   "outputs": [
    {
     "name": "stdout",
     "output_type": "stream",
     "text": [
      "volumesnapshot.snapshot.storage.k8s.io/seagate-pvc-snapshot-demo created\n"
     ]
    }
   ],
   "source": [
    "kubectl create -f iscsi/snapshot.yaml"
   ]
  },
  {
   "cell_type": "code",
   "execution_count": 24,
   "id": "c8c546a0",
   "metadata": {},
   "outputs": [
    {
     "name": "stdout",
     "output_type": "stream",
     "text": [
      "NAME                        READYTOUSE   SOURCEPVC          SOURCESNAPSHOTCONTENT   RESTORESIZE   SNAPSHOTCLASS                SNAPSHOTCONTENT                                    CREATIONTIME   AGE\n",
      "seagate-pvc-snapshot-demo   false        seagate-pvc-demo                                         seagate-snapshotclass-demo   snapcontent-8ecbfda3-cf67-4bb1-a6da-f81555d1daa1                  45s\n"
     ]
    }
   ],
   "source": [
    "kubectl get volumesnapshot -n demo"
   ]
  },
  {
   "cell_type": "markdown",
   "id": "02057026",
   "metadata": {},
   "source": [
    "## Check newly created snapshot in the enclosure UI\n",
    "![Snapshot Screenshot](pics/new_snapshot.png)"
   ]
  },
  {
   "cell_type": "markdown",
   "id": "f82e5ecc",
   "metadata": {},
   "source": [
    "## Create a new PVC from the snapshot (restore)"
   ]
  },
  {
   "cell_type": "code",
   "execution_count": 26,
   "id": "78eaf75c",
   "metadata": {},
   "outputs": [
    {
     "name": "stdout",
     "output_type": "stream",
     "text": [
      "apiVersion: v1\n",
      "kind: PersistentVolumeClaim\n",
      "metadata:\n",
      "  name: seagate-snapshot-pvc-restore-demo\n",
      "  namespace: demo\n",
      "spec:\n",
      "  dataSource:\n",
      "    name: seagate-pvc-snapshot-demo\n",
      "    kind: VolumeSnapshot\n",
      "    apiGroup: \"snapshot.storage.k8s.io\"\n",
      "  accessModes:\n",
      "    - ReadWriteOnce\n",
      "  storageClassName: seagate-storageclass-demo\n",
      "  resources:\n",
      "    requests:\n",
      "      storage: 1Gi\n"
     ]
    }
   ],
   "source": [
    "cat iscsi/restoresnapshot.yaml"
   ]
  },
  {
   "cell_type": "markdown",
   "id": "c3105d7a",
   "metadata": {},
   "source": [
    "## <font color='red'>Restore functionality is not implemented yet</font>"
   ]
  },
  {
   "cell_type": "markdown",
   "id": "a48ce0fd",
   "metadata": {},
   "source": [
    "## Create a new PVC from the existing PVC (clone)"
   ]
  },
  {
   "cell_type": "code",
   "execution_count": 27,
   "id": "74c11881",
   "metadata": {},
   "outputs": [
    {
     "name": "stdout",
     "output_type": "stream",
     "text": [
      "apiVersion: v1\n",
      "kind: PersistentVolumeClaim\n",
      "metadata:\n",
      "  name: seagate-pvc-clone-demo\n",
      "  namespace: demo\n",
      "spec:\n",
      "  dataSource:\n",
      "    name: seagate-pvc-demo\n",
      "    kind: PersistentVolumeClaim\n",
      "  accessModes:\n",
      "    - ReadWriteOnce\n",
      "  storageClassName: seagate-storageclass-demo\n",
      "  resources:\n",
      "    requests:\n",
      "      storage: 1Gi\n"
     ]
    }
   ],
   "source": [
    "cat iscsi/clonepvc.yaml"
   ]
  },
  {
   "cell_type": "code",
   "execution_count": 28,
   "id": "87d30764",
   "metadata": {},
   "outputs": [
    {
     "name": "stdout",
     "output_type": "stream",
     "text": [
      "persistentvolumeclaim/seagate-pvc-clone-demo created\n"
     ]
    }
   ],
   "source": [
    "kubectl create -f iscsi/clonepvc.yaml"
   ]
  },
  {
   "cell_type": "code",
   "execution_count": 29,
   "id": "8d49bb61",
   "metadata": {},
   "outputs": [
    {
     "name": "stdout",
     "output_type": "stream",
     "text": [
      "NAME                     STATUS   VOLUME                                     CAPACITY   ACCESS MODES   STORAGECLASS                AGE\n",
      "seagate-pvc-clone-demo   Bound    pvc-8383cd38-21b8-4b7e-a859-bc57854473d0   1Gi        RWO            seagate-storageclass-demo   2m55s\n"
     ]
    }
   ],
   "source": [
    "kubectl get pvc seagate-pvc-clone-demo -n demo"
   ]
  },
  {
   "cell_type": "markdown",
   "id": "86f0610f",
   "metadata": {},
   "source": [
    "## Create a pod with the PVC attached"
   ]
  },
  {
   "cell_type": "code",
   "execution_count": 31,
   "id": "1439bea2",
   "metadata": {},
   "outputs": [
    {
     "name": "stdout",
     "output_type": "stream",
     "text": [
      "apiVersion: v1\n",
      "kind: Pod\n",
      "metadata:\n",
      "  name: seagate-pod-pvc-demo\n",
      "  namespace: demo\n",
      "spec:\n",
      "  containers:\n",
      "  - image: busybox\n",
      "    name: theapp\n",
      "    volumeMounts:\n",
      "    - mountPath: /vol\n",
      "      name: seagate-csi-volume\n",
      "    command: [ \"sleep\", \"1000\" ]\n",
      "  volumes:\n",
      "  - name: seagate-csi-volume\n",
      "    persistentVolumeClaim:\n",
      "      claimName: seagate-pvc-demo\n",
      "  nodeSelector:\n",
      "    kubernetes.io/hostname: ssc-vm-3914\n",
      "\n"
     ]
    }
   ],
   "source": [
    "cat iscsi/app.yaml"
   ]
  },
  {
   "cell_type": "code",
   "execution_count": 32,
   "id": "1fbf69d2",
   "metadata": {},
   "outputs": [
    {
     "name": "stdout",
     "output_type": "stream",
     "text": [
      "pod/seagate-pod-pvc-demo created\n"
     ]
    }
   ],
   "source": [
    "kubectl create -f iscsi/app.yaml"
   ]
  },
  {
   "cell_type": "code",
   "execution_count": 33,
   "id": "134736df",
   "metadata": {},
   "outputs": [
    {
     "name": "stdout",
     "output_type": "stream",
     "text": [
      "NAME                   READY   STATUS    RESTARTS   AGE\n",
      "seagate-pod-pvc-demo   1/1     Running   0          78s\n"
     ]
    }
   ],
   "source": [
    "kubectl get pod -n demo"
   ]
  },
  {
   "cell_type": "code",
   "execution_count": 34,
   "id": "e9dce82b",
   "metadata": {},
   "outputs": [
    {
     "name": "stdout",
     "output_type": "stream",
     "text": [
      "Filesystem                Size      Used Available Use% Mounted on\n",
      "/dev/mapper/3600c0ff0000127730dcadc6001000000\n",
      "                        975.9M      2.5M    906.2M   0% /vol\n"
     ]
    }
   ],
   "source": [
    "kubectl exec -it seagate-pod-pvc-demo -n demo -- df -h /vol"
   ]
  },
  {
   "cell_type": "markdown",
   "id": "e3416580",
   "metadata": {},
   "source": [
    "## Resize the PV"
   ]
  },
  {
   "cell_type": "markdown",
   "id": "07e95bd8",
   "metadata": {},
   "source": [
    "```\n",
    "kubectl edit pvc seagate-pvc-demo -n demo\n",
    "```\n",
    "Replace 1Gi with new size (2Gi) in the spec:\n",
    "```\n",
    "spec:\n",
    "  accessModes:\n",
    "  - ReadWriteOnce\n",
    "  resources:\n",
    "    requests:\n",
    "      storage: 1Gi\n",
    "  storageClassName: seagate-storageclass-demo\n",
    "  volumeMode: Filesystem\n",
    "```"
   ]
  },
  {
   "cell_type": "code",
   "execution_count": 4,
   "id": "a66dd0b5",
   "metadata": {},
   "outputs": [
    {
     "name": "stdout",
     "output_type": "stream",
     "text": [
      "pod \"seagate-pod-pvc-demo\" deleted\n"
     ]
    }
   ],
   "source": [
    "# Command above results in volume resize\n",
    "# The pod must be restarted to complete file system resize \n",
    "kubectl delete -f iscsi/app.yaml"
   ]
  },
  {
   "cell_type": "code",
   "execution_count": 1,
   "id": "4a2e710b",
   "metadata": {},
   "outputs": [
    {
     "name": "stdout",
     "output_type": "stream",
     "text": [
      "pod/seagate-pod-pvc-demo created\n"
     ]
    }
   ],
   "source": [
    "kubectl create -f iscsi/app.yaml"
   ]
  },
  {
   "cell_type": "code",
   "execution_count": 2,
   "id": "4b2a7bd7",
   "metadata": {},
   "outputs": [
    {
     "name": "stdout",
     "output_type": "stream",
     "text": [
      "NAME                                     STATUS   VOLUME                                     CAPACITY   ACCESS MODES   STORAGECLASS                AGE\n",
      "persistentvolumeclaim/seagate-pvc-demo   Bound    pvc-c543db9e-ef03-4566-83b2-f785d9db5cf0   2Gi        RWO            seagate-storageclass-demo   6m19s\n",
      "\n",
      "NAME                       READY   STATUS    RESTARTS   AGE\n",
      "pod/seagate-pod-pvc-demo   1/1     Running   0          35s\n"
     ]
    }
   ],
   "source": [
    "# Notice PVC size changed to 2Gi\n",
    "kubectl get pvc,pod -n demo"
   ]
  },
  {
   "cell_type": "code",
   "execution_count": 3,
   "id": "ee2c8dc1",
   "metadata": {},
   "outputs": [
    {
     "name": "stdout",
     "output_type": "stream",
     "text": [
      "Filesystem                Size      Used Available Use% Mounted on\n",
      "/dev/mapper/3600c0ff000012773fb9bdd6001000000\n",
      "                          1.9G      3.0M      1.8G   0% /vol\n"
     ]
    }
   ],
   "source": [
    "# And the filesystem is 1.9G now\n",
    "kubectl exec -it seagate-pod-pvc-demo -n demo -- df -h /vol"
   ]
  },
  {
   "cell_type": "markdown",
   "id": "8bdd31e2",
   "metadata": {},
   "source": [
    "## Metrics\n",
    "Exos X CSI driver exports a variety of metrics which can be used to track usage and performance of the driver.\n",
    "By default, Controller exposes /metrics on port tcp/9842.\n",
    "Also, every Node exposes /healthz endpoint on port tcp/9808 which returns \"ok\"\n",
    "\n",
    "We'll publish a reference Prometheus query and Grafana dashboard in the future.\n",
    "For now, here is the query directly to the exporter "
   ]
  },
  {
   "cell_type": "code",
   "execution_count": 2,
   "id": "ba0a425e",
   "metadata": {},
   "outputs": [
    {
     "name": "stdout",
     "output_type": "stream",
     "text": [
      "# HELP exosx_api_appliance_api_call How many API calls have been executed\n",
      "# TYPE exosx_api_appliance_api_call counter\n",
      "exosx_api_appliance_api_call{endpoint=\"/create/snapshots/volumes/%q/%q\",success=\"false\"} 40\n",
      "exosx_api_appliance_api_call{endpoint=\"/create/snapshots/volumes/%q/%q\",success=\"true\"} 1\n",
      "exosx_api_appliance_api_call{endpoint=\"/create/volume/pool/\\\"%s\\\"/size/%s/tier-affinity/no-affinity/\\\"%s\\\"\",success=\"true\"} 1\n",
      "exosx_api_appliance_api_call{endpoint=\"/delete/volumes/\\\"%s\\\"\",success=\"true\"} 1\n",
      "exosx_api_appliance_api_call{endpoint=\"/login/%s\",success=\"true\"} 1\n",
      "exosx_api_appliance_api_call{endpoint=\"/show/snapshots/%q\",success=\"false\"} 41\n",
      "exosx_api_appliance_api_call{endpoint=\"/show/volumes/\\\"%s\\\"\",success=\"false\"} 1\n",
      "# HELP exosx_api_appliance_api_call_duration The total duration of API calls\n",
      "# TYPE exosx_api_appliance_api_call_duration counter\n",
      "exosx_api_appliance_api_call_duration{endpoint=\"/create/snapshots/volumes/%q/%q\"} 6.616106189\n",
      "exosx_api_appliance_api_call_duration{endpoint=\"/create/volume/pool/\\\"%s\\\"/size/%s/tier-affinity/no-affinity/\\\"%s\\\"\"} 1.044521401\n",
      "exosx_api_appliance_api_call_duration{endpoint=\"/delete/volumes/\\\"%s\\\"\"} 0.534957065\n",
      "exosx_api_appliance_api_call_duration{endpoint=\"/login/%s\"} 0.022297382\n",
      "exosx_api_appliance_api_call_duration{endpoint=\"/show/snapshots/%q\"} 3.5828456849999997\n",
      "exosx_api_appliance_api_call_duration{endpoint=\"/show/volumes/\\\"%s\\\"\"} 0.036628773\n",
      "# HELP go_gc_duration_seconds A summary of the pause duration of garbage collection cycles.\n",
      "# TYPE go_gc_duration_seconds summary\n",
      "go_gc_duration_seconds{quantile=\"0\"} 4.8505e-05\n",
      "go_gc_duration_seconds{quantile=\"0.25\"} 0.000177347\n",
      "go_gc_duration_seconds{quantile=\"0.5\"} 0.000273388\n",
      "go_gc_duration_seconds{quantile=\"0.75\"} 0.000346703\n",
      "go_gc_duration_seconds{quantile=\"1\"} 0.000547329\n",
      "go_gc_duration_seconds_sum 0.728855607\n",
      "go_gc_duration_seconds_count 2872\n",
      "# HELP go_goroutines Number of goroutines that currently exist.\n",
      "# TYPE go_goroutines gauge\n",
      "go_goroutines 24\n",
      "# HELP go_info Information about the Go environment.\n",
      "# TYPE go_info gauge\n",
      "go_info{version=\"go1.16.4\"} 1\n",
      "# HELP go_memstats_alloc_bytes Number of bytes allocated and still in use.\n",
      "# TYPE go_memstats_alloc_bytes gauge\n",
      "go_memstats_alloc_bytes 1.61616e+06\n",
      "# HELP go_memstats_alloc_bytes_total Total number of bytes allocated, even if freed.\n",
      "# TYPE go_memstats_alloc_bytes_total counter\n",
      "go_memstats_alloc_bytes_total 6.63164e+06\n",
      "# HELP go_memstats_buck_hash_sys_bytes Number of bytes used by the profiling bucket hash table.\n",
      "# TYPE go_memstats_buck_hash_sys_bytes gauge\n",
      "go_memstats_buck_hash_sys_bytes 1.447333e+06\n",
      "# HELP go_memstats_frees_total Total number of frees.\n",
      "# TYPE go_memstats_frees_total counter\n",
      "go_memstats_frees_total 60502\n",
      "# HELP go_memstats_gc_cpu_fraction The fraction of this program's available CPU time used by the GC since the program started.\n",
      "# TYPE go_memstats_gc_cpu_fraction gauge\n",
      "go_memstats_gc_cpu_fraction 3.803341314191012e-06\n",
      "# HELP go_memstats_gc_sys_bytes Number of bytes used for garbage collection system metadata.\n",
      "# TYPE go_memstats_gc_sys_bytes gauge\n",
      "go_memstats_gc_sys_bytes 5.0182e+06\n",
      "# HELP go_memstats_heap_alloc_bytes Number of heap bytes allocated and still in use.\n",
      "# TYPE go_memstats_heap_alloc_bytes gauge\n",
      "go_memstats_heap_alloc_bytes 1.61616e+06\n",
      "# HELP go_memstats_heap_idle_bytes Number of heap bytes waiting to be used.\n",
      "# TYPE go_memstats_heap_idle_bytes gauge\n",
      "go_memstats_heap_idle_bytes 6.2865408e+07\n",
      "# HELP go_memstats_heap_inuse_bytes Number of heap bytes that are in use.\n",
      "# TYPE go_memstats_heap_inuse_bytes gauge\n",
      "go_memstats_heap_inuse_bytes 3.457024e+06\n",
      "# HELP go_memstats_heap_objects Number of allocated objects.\n",
      "# TYPE go_memstats_heap_objects gauge\n",
      "go_memstats_heap_objects 9366\n",
      "# HELP go_memstats_heap_released_bytes Number of heap bytes released to OS.\n",
      "# TYPE go_memstats_heap_released_bytes gauge\n",
      "go_memstats_heap_released_bytes 6.2562304e+07\n",
      "# HELP go_memstats_heap_sys_bytes Number of heap bytes obtained from system.\n",
      "# TYPE go_memstats_heap_sys_bytes gauge\n",
      "go_memstats_heap_sys_bytes 6.6322432e+07\n",
      "# HELP go_memstats_last_gc_time_seconds Number of seconds since 1970 of last garbage collection.\n",
      "# TYPE go_memstats_last_gc_time_seconds gauge\n",
      "go_memstats_last_gc_time_seconds 1.6261192311267457e+09\n",
      "# HELP go_memstats_lookups_total Total number of pointer lookups.\n",
      "# TYPE go_memstats_lookups_total counter\n",
      "go_memstats_lookups_total 0\n",
      "# HELP go_memstats_mallocs_total Total number of mallocs.\n",
      "# TYPE go_memstats_mallocs_total counter\n",
      "go_memstats_mallocs_total 69868\n",
      "# HELP go_memstats_mcache_inuse_bytes Number of bytes in use by mcache structures.\n",
      "# TYPE go_memstats_mcache_inuse_bytes gauge\n",
      "go_memstats_mcache_inuse_bytes 9600\n",
      "# HELP go_memstats_mcache_sys_bytes Number of bytes used for mcache structures obtained from system.\n",
      "# TYPE go_memstats_mcache_sys_bytes gauge\n",
      "go_memstats_mcache_sys_bytes 16384\n",
      "# HELP go_memstats_mspan_inuse_bytes Number of bytes in use by mspan structures.\n",
      "# TYPE go_memstats_mspan_inuse_bytes gauge\n",
      "go_memstats_mspan_inuse_bytes 97648\n",
      "# HELP go_memstats_mspan_sys_bytes Number of bytes used for mspan structures obtained from system.\n",
      "# TYPE go_memstats_mspan_sys_bytes gauge\n",
      "go_memstats_mspan_sys_bytes 131072\n",
      "# HELP go_memstats_next_gc_bytes Number of heap bytes when next garbage collection will take place.\n",
      "# TYPE go_memstats_next_gc_bytes gauge\n",
      "go_memstats_next_gc_bytes 4.194304e+06\n",
      "# HELP go_memstats_other_sys_bytes Number of bytes used for other system allocations.\n",
      "# TYPE go_memstats_other_sys_bytes gauge\n",
      "go_memstats_other_sys_bytes 1.596427e+06\n",
      "# HELP go_memstats_stack_inuse_bytes Number of bytes in use by the stack allocator.\n",
      "# TYPE go_memstats_stack_inuse_bytes gauge\n",
      "go_memstats_stack_inuse_bytes 786432\n",
      "# HELP go_memstats_stack_sys_bytes Number of bytes obtained from system for stack allocator.\n",
      "# TYPE go_memstats_stack_sys_bytes gauge\n",
      "go_memstats_stack_sys_bytes 786432\n",
      "# HELP go_memstats_sys_bytes Number of bytes obtained from system.\n",
      "# TYPE go_memstats_sys_bytes gauge\n",
      "go_memstats_sys_bytes 7.531828e+07\n",
      "# HELP go_threads Number of OS threads created.\n",
      "# TYPE go_threads gauge\n",
      "go_threads 16\n",
      "# HELP process_cpu_seconds_total Total user and system CPU time spent in seconds.\n",
      "# TYPE process_cpu_seconds_total counter\n",
      "process_cpu_seconds_total 22.91\n",
      "# HELP process_max_fds Maximum number of open file descriptors.\n",
      "# TYPE process_max_fds gauge\n",
      "process_max_fds 1.048576e+06\n",
      "# HELP process_open_fds Number of open file descriptors.\n",
      "# TYPE process_open_fds gauge\n",
      "process_open_fds 14\n",
      "# HELP process_resident_memory_bytes Resident memory size in bytes.\n",
      "# TYPE process_resident_memory_bytes gauge\n",
      "process_resident_memory_bytes 1.8120704e+07\n",
      "# HELP process_start_time_seconds Start time of the process since unix epoch in seconds.\n",
      "# TYPE process_start_time_seconds gauge\n",
      "process_start_time_seconds 1.62576047049e+09\n",
      "# HELP process_virtual_memory_bytes Virtual memory size in bytes.\n",
      "# TYPE process_virtual_memory_bytes gauge\n",
      "process_virtual_memory_bytes 1.806409728e+09\n",
      "# HELP process_virtual_memory_max_bytes Maximum amount of virtual memory available in bytes.\n",
      "# TYPE process_virtual_memory_max_bytes gauge\n",
      "process_virtual_memory_max_bytes 1.8446744073709552e+19\n",
      "# HELP promhttp_metric_handler_requests_in_flight Current number of scrapes being served.\n",
      "# TYPE promhttp_metric_handler_requests_in_flight gauge\n",
      "promhttp_metric_handler_requests_in_flight 1\n",
      "# HELP promhttp_metric_handler_requests_total Total number of scrapes by HTTP status code.\n",
      "# TYPE promhttp_metric_handler_requests_total counter\n",
      "promhttp_metric_handler_requests_total{code=\"200\"} 6\n",
      "promhttp_metric_handler_requests_total{code=\"500\"} 0\n",
      "promhttp_metric_handler_requests_total{code=\"503\"} 0\n",
      "# HELP seagate_csi_rpc_call How many CSI RPC calls have been executed\n",
      "# TYPE seagate_csi_rpc_call counter\n",
      "seagate_csi_rpc_call{endpoint=\"/csi.v1.Controller/ControllerGetCapabilities\",success=\"true\"} 5\n",
      "seagate_csi_rpc_call{endpoint=\"/csi.v1.Controller/CreateSnapshot\",success=\"false\"} 41\n",
      "seagate_csi_rpc_call{endpoint=\"/csi.v1.Controller/CreateVolume\",success=\"true\"} 1\n",
      "seagate_csi_rpc_call{endpoint=\"/csi.v1.Controller/DeleteVolume\",success=\"true\"} 1\n",
      "seagate_csi_rpc_call{endpoint=\"/csi.v1.Identity/GetPluginCapabilities\",success=\"true\"} 3\n",
      "seagate_csi_rpc_call{endpoint=\"/csi.v1.Identity/GetPluginInfo\",success=\"true\"} 45\n"
     ]
    },
    {
     "name": "stdout",
     "output_type": "stream",
     "text": [
      "seagate_csi_rpc_call{endpoint=\"/csi.v1.Identity/Probe\",success=\"true\"} 4\n",
      "# HELP seagate_csi_rpc_call_duration The total duration of CSI RPC calls\n",
      "# TYPE seagate_csi_rpc_call_duration counter\n",
      "seagate_csi_rpc_call_duration{endpoint=\"/csi.v1.Controller/ControllerGetCapabilities\"} 0.000184456\n",
      "seagate_csi_rpc_call_duration{endpoint=\"/csi.v1.Controller/CreateSnapshot\"} 10.206516281999999\n",
      "seagate_csi_rpc_call_duration{endpoint=\"/csi.v1.Controller/CreateVolume\"} 1.103964113\n",
      "seagate_csi_rpc_call_duration{endpoint=\"/csi.v1.Controller/DeleteVolume\"} 0.535178527\n",
      "seagate_csi_rpc_call_duration{endpoint=\"/csi.v1.Identity/GetPluginCapabilities\"} 7.6364e-05\n",
      "seagate_csi_rpc_call_duration{endpoint=\"/csi.v1.Identity/GetPluginInfo\"} 0.0030613609999999994\n",
      "seagate_csi_rpc_call_duration{endpoint=\"/csi.v1.Identity/Probe\"} 0.00022928499999999997\n"
     ]
    }
   ],
   "source": [
    "# Define IP of the Controller pod\n",
    "CTRL_IP=`kubectl get pod -n seagate -o wide  | grep seagate-exos-x-csi-controller | awk '{print $6}'`\n",
    "# use curl to query the pod\n",
    "curl -s http://$CTRL_IP:9842/metrics\n"
   ]
  },
  {
   "cell_type": "markdown",
   "id": "1e060651",
   "metadata": {},
   "source": [
    "## Clean everything"
   ]
  },
  {
   "cell_type": "code",
   "execution_count": 35,
   "id": "aa1f6183",
   "metadata": {},
   "outputs": [
    {
     "name": "stdout",
     "output_type": "stream",
     "text": [
      "pod \"seagate-pod-pvc-demo\" deleted\n"
     ]
    }
   ],
   "source": [
    "kubectl delete -f iscsi/app.yaml"
   ]
  },
  {
   "cell_type": "code",
   "execution_count": 36,
   "id": "851f53b2",
   "metadata": {},
   "outputs": [
    {
     "name": "stdout",
     "output_type": "stream",
     "text": [
      "persistentvolumeclaim \"seagate-pvc-clone-demo\" deleted\n"
     ]
    }
   ],
   "source": [
    "kubectl delete -f iscsi/clonepvc.yaml"
   ]
  },
  {
   "cell_type": "code",
   "execution_count": 37,
   "id": "400e8c20",
   "metadata": {},
   "outputs": [
    {
     "name": "stdout",
     "output_type": "stream",
     "text": [
      "persistentvolumeclaim \"seagate-snapshot-pvc-restore-demo\" deleted\n"
     ]
    }
   ],
   "source": [
    "kubectl delete -f iscsi/restoresnapshot.yaml"
   ]
  },
  {
   "cell_type": "code",
   "execution_count": 38,
   "id": "ababcccf",
   "metadata": {},
   "outputs": [
    {
     "name": "stdout",
     "output_type": "stream",
     "text": [
      "volumesnapshot.snapshot.storage.k8s.io \"seagate-pvc-snapshot-demo\" deleted\n"
     ]
    }
   ],
   "source": [
    "# There is a bug in the current version, snapshot is not actually deleted on the enclosure\n",
    "kubectl delete -f iscsi/snapshot.yaml"
   ]
  },
  {
   "cell_type": "code",
   "execution_count": 39,
   "id": "bba769d8",
   "metadata": {},
   "outputs": [
    {
     "name": "stdout",
     "output_type": "stream",
     "text": [
      "persistentvolumeclaim \"seagate-pvc-demo\" deleted\n"
     ]
    }
   ],
   "source": [
    "kubectl delete -f iscsi/pvc.yaml"
   ]
  },
  {
   "cell_type": "code",
   "execution_count": 40,
   "id": "33ea12f6",
   "metadata": {},
   "outputs": [
    {
     "name": "stdout",
     "output_type": "stream",
     "text": [
      "volumesnapshotclass.snapshot.storage.k8s.io \"seagate-snapshotclass-demo\" deleted\n"
     ]
    }
   ],
   "source": [
    "kubectl delete -f iscsi/snapshot-class.yaml"
   ]
  },
  {
   "cell_type": "code",
   "execution_count": 41,
   "id": "b926ef26",
   "metadata": {},
   "outputs": [
    {
     "name": "stdout",
     "output_type": "stream",
     "text": [
      "storageclass.storage.k8s.io \"seagate-storageclass-demo\" deleted\n"
     ]
    }
   ],
   "source": [
    "kubectl delete -f iscsi/storage-class.yaml"
   ]
  },
  {
   "cell_type": "code",
   "execution_count": 42,
   "id": "958a1d5a",
   "metadata": {},
   "outputs": [
    {
     "name": "stdout",
     "output_type": "stream",
     "text": [
      "release \"seagate-csi\" uninstalled\n"
     ]
    }
   ],
   "source": [
    "helm uninstall seagate-csi -n seagate"
   ]
  },
  {
   "cell_type": "markdown",
   "id": "a03362be",
   "metadata": {},
   "source": [
    "## Future functionality\n",
    "* Restore from snapshot\n",
    "* OpenShift operator\n",
    "----\n",
    "* Additional parameters in StorageClass definition\n",
    "* Managing multiple enclosures / pools via single StorageClass\n",
    "* Topology \n",
    "* Capacity\n",
    "* Import a volume\n",
    "* Raw block device\n",
    "* iSCSI CHAP\n",
    "* SAS and NVMe connectivity support\n",
    "* Support for Windows"
   ]
  },
  {
   "cell_type": "code",
   "execution_count": null,
   "id": "89f370fc",
   "metadata": {},
   "outputs": [],
   "source": []
  }
 ],
 "metadata": {
  "kernelspec": {
   "display_name": "Bash",
   "language": "bash",
   "name": "bash"
  },
  "language_info": {
   "codemirror_mode": "shell",
   "file_extension": ".sh",
   "mimetype": "text/x-sh",
   "name": "bash"
  }
 },
 "nbformat": 4,
 "nbformat_minor": 5
}
