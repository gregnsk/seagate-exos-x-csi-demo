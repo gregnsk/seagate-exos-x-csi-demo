{
 "cells": [
  {
   "cell_type": "markdown",
   "id": "c251359d",
   "metadata": {},
   "source": [
    "# Seagate Exos X CSI driver functionality\n",
    "Contact: Gregory Touretsky, gregory.touretsky@seagate.com\n",
    "\n",
    "Seagate Exos X CSI driver supports Seagate storage systems with 4xx5/5xx5 controllers (including OEM versions).\n",
    "\n",
    "Prerequisites: Exos X enclosure is configured with iSCSI. Pool[s] are created"
   ]
  },
  {
   "cell_type": "markdown",
   "id": "7cec6b4e",
   "metadata": {},
   "source": [
    "## Review Kubernetes cluster"
   ]
  },
  {
   "cell_type": "code",
   "execution_count": 1,
   "id": "cfe173d7",
   "metadata": {},
   "outputs": [
    {
     "name": "stdout",
     "output_type": "stream",
     "text": [
      "NAME                          STATUS   ROLES                  AGE   VERSION\n",
      "stxeng-proliant-dl380p-gen8   Ready    control-plane,master   44d   v1.21.3\n"
     ]
    }
   ],
   "source": [
    "# Current CSI driver functionality should work with Kubernetes v.1.20 and higher\n",
    "# Some features may not work with older versions of Kubernetes\n",
    "kubectl get nodes"
   ]
  },
  {
   "cell_type": "markdown",
   "id": "5fc471ee",
   "metadata": {},
   "source": [
    "## Clone the driver from Github"
   ]
  },
  {
   "cell_type": "code",
   "execution_count": 3,
   "id": "628c2d2f",
   "metadata": {},
   "outputs": [
    {
     "name": "stdout",
     "output_type": "stream",
     "text": [
      "Cloning into 'seagate-exos-x-csi'...\n",
      "remote: Enumerating objects: 2320, done.\u001b[K\n",
      "remote: Counting objects: 100% (831/831), done.\u001b[K\n",
      "remote: Compressing objects: 100% (267/267), done.\u001b[K\n",
      "remote: Total 2320 (delta 646), reused 634 (delta 540), pack-reused 1489\u001b[K\n",
      "Receiving objects: 100% (2320/2320), 433.13 KiB | 2.97 MiB/s, done.\n",
      "Resolving deltas: 100% (1369/1369), done.\n"
     ]
    }
   ],
   "source": [
    "git clone https://github.com/Seagate/seagate-exos-x-csi.git"
   ]
  },
  {
   "cell_type": "markdown",
   "id": "34097f75",
   "metadata": {},
   "source": [
    "## Install CSI driver using Helm"
   ]
  },
  {
   "cell_type": "code",
   "execution_count": 4,
   "id": "8e92e280",
   "metadata": {},
   "outputs": [
    {
     "name": "stdout",
     "output_type": "stream",
     "text": [
      "NAME: seagate-csi\n",
      "LAST DEPLOYED: Wed Sep 15 15:18:40 2021\n",
      "NAMESPACE: seagate\n",
      "STATUS: deployed\n",
      "REVISION: 1\n",
      "TEST SUITE: None\n",
      "NOTES:\n",
      "Thank you for using Seagate Exos X provisioner. It will be up and running shortly.\n",
      "Run 'kubectl get pods' to verify that the new pods have a 'STATUS' of 'Running'.\n",
      "\n",
      "In order to dynamically provide a persistant volume, create a storage class first.\n",
      "Please refer to this example to do so: https://github.com/Seagate/seagate-exos-x-csi/blob/main/example/storage-class.yaml\n"
     ]
    }
   ],
   "source": [
    "# As a prerequisite, clone Seagate Exos X CSI driver from https://github.com/Seagate/seagate-exos-x-csi\n",
    "# Container images will be pulled from GitHub Container Repository\n",
    "helm install seagate-csi -n seagate --create-namespace \\\n",
    "    ./seagate-exos-x-csi/helm/csi-charts \\\n",
    "    -f ./seagate-exos-x-csi/helm/csi-charts/values.yaml"
   ]
  },
  {
   "cell_type": "code",
   "execution_count": 5,
   "id": "3ed52713",
   "metadata": {},
   "outputs": [
    {
     "name": "stdout",
     "output_type": "stream",
     "text": [
      "NAME                                                    READY   STATUS    RESTARTS   AGE   IP              NODE                          NOMINATED NODE   READINESS GATES\n",
      "seagate-exos-x-csi-controller-server-567bf6c885-bj4lf   5/5     Running   0          18s   10.244.0.21     stxeng-proliant-dl380p-gen8   <none>           <none>\n",
      "seagate-exos-x-csi-node-server-z267f                    3/3     Running   0          18s   10.235.192.60   stxeng-proliant-dl380p-gen8   <none>           <none>\n"
     ]
    }
   ],
   "source": [
    "# We recommend to install CSI driver in a dedicated namespace. Here it's running in a namespace \"seagate\"\n",
    "# There is a single Controller (seagate-csi-controller) instance per cluster \n",
    "# and a single Node (seagate-csi-node) instance per worker node \n",
    "kubectl get pods -n seagate -o wide"
   ]
  },
  {
   "cell_type": "markdown",
   "id": "2f5c5c8c",
   "metadata": {},
   "source": [
    "## Create a secret for every managed enclosure"
   ]
  },
  {
   "cell_type": "code",
   "execution_count": 7,
   "id": "8e88f2c3",
   "metadata": {},
   "outputs": [
    {
     "name": "stdout",
     "output_type": "stream",
     "text": [
      "secret/secret-seagate created\n"
     ]
    }
   ],
   "source": [
    "# Secret contains base64-encoded management IP and credentials for the enclosure\n",
    "# For security reasons, this secret should be created in the same namespace where the driver is installed (seagate)\n",
    "kubectl create -f iscsi/secret-seagate.yaml"
   ]
  },
  {
   "cell_type": "markdown",
   "id": "e358c858",
   "metadata": {},
   "source": [
    "## Create a Storage Class"
   ]
  },
  {
   "cell_type": "code",
   "execution_count": 15,
   "id": "752da11a",
   "metadata": {},
   "outputs": [
    {
     "name": "stdout",
     "output_type": "stream",
     "text": [
      "apiVersion: storage.k8s.io/v1\n",
      "kind: StorageClass\n",
      "provisioner: csi-exos-x.seagate.com\n",
      "allowVolumeExpansion: true\n",
      "metadata:\n",
      "  name: storageclass-seagate\n",
      "parameters:\n",
      "  csi.storage.k8s.io/provisioner-secret-name: secret-seagate\n",
      "  csi.storage.k8s.io/provisioner-secret-namespace: seagate\n",
      "  csi.storage.k8s.io/controller-publish-secret-name: secret-seagate\n",
      "  csi.storage.k8s.io/controller-publish-secret-namespace: seagate\n",
      "  csi.storage.k8s.io/controller-expand-secret-name: secret-seagate\n",
      "  csi.storage.k8s.io/controller-expand-secret-namespace: seagate\n",
      "  fsType: ext4 # Desired filesystem\n",
      "  iqn: iqn.1992-09.com.seagate:01.array.00c0ff0afca8\n",
      "  pool: A # Pool for volumes provisioning\n",
      "  portals: 172.9.1.22,172.9.1.23\n",
      "  volPrefix: stx # Desired prefix for volume naming, an underscore is appended\n"
     ]
    }
   ],
   "source": [
    "# Some of these parameters (such as iqn and portals) will be deprecated in the future release\n",
    "# Other parameters will be added\n",
    "cat iscsi/storage-class.yaml"
   ]
  },
  {
   "cell_type": "code",
   "execution_count": 16,
   "id": "d9c78c3a",
   "metadata": {},
   "outputs": [
    {
     "name": "stdout",
     "output_type": "stream",
     "text": [
      "storageclass.storage.k8s.io/storageclass-seagate created\n"
     ]
    }
   ],
   "source": [
    "kubectl create -f iscsi/storage-class.yaml"
   ]
  },
  {
   "cell_type": "code",
   "execution_count": 17,
   "id": "391ea4b3",
   "metadata": {},
   "outputs": [
    {
     "name": "stdout",
     "output_type": "stream",
     "text": [
      "NAME                   PROVISIONER              RECLAIMPOLICY   VOLUMEBINDINGMODE   ALLOWVOLUMEEXPANSION   AGE\n",
      "storageclass-seagate   csi-exos-x.seagate.com   Delete          Immediate           true                   3s\n"
     ]
    }
   ],
   "source": [
    "kubectl get sc storageclass-seagate"
   ]
  },
  {
   "cell_type": "markdown",
   "id": "9d1fa7c5",
   "metadata": {},
   "source": [
    "## Validate lack of PVCs and pods in the demo space"
   ]
  },
  {
   "cell_type": "code",
   "execution_count": 18,
   "id": "b84fb8ea",
   "metadata": {},
   "outputs": [
    {
     "name": "stdout",
     "output_type": "stream",
     "text": [
      "No resources found in demo namespace.\n"
     ]
    }
   ],
   "source": [
    "# In this demo PVCs and pods will be created in a namespace \"demo\"\n",
    "# At the beginning of the demo this namespace is empty\n",
    "kubectl get pvc,volumesnapshot,pod -n demo"
   ]
  },
  {
   "cell_type": "markdown",
   "id": "9dc0c84d",
   "metadata": {},
   "source": [
    "## Create a Persistent Volume Claim"
   ]
  },
  {
   "cell_type": "code",
   "execution_count": 19,
   "id": "a35257fc",
   "metadata": {},
   "outputs": [
    {
     "name": "stdout",
     "output_type": "stream",
     "text": [
      "apiVersion: v1\n",
      "kind: PersistentVolumeClaim\n",
      "metadata:\n",
      "  name: pvc-seagate\n",
      "  namespace: demo\n",
      "spec:\n",
      "  accessModes:\n",
      "    - ReadWriteOnce\n",
      "  storageClassName: storageclass-seagate\n",
      "  resources:\n",
      "    requests:\n",
      "      storage: 1Gi\n"
     ]
    }
   ],
   "source": [
    "cat iscsi/pvc.yaml"
   ]
  },
  {
   "cell_type": "code",
   "execution_count": 20,
   "id": "81cb6311",
   "metadata": {},
   "outputs": [
    {
     "name": "stdout",
     "output_type": "stream",
     "text": [
      "persistentvolumeclaim/pvc-seagate created\n"
     ]
    }
   ],
   "source": [
    "kubectl create -f iscsi/pvc.yaml"
   ]
  },
  {
   "cell_type": "code",
   "execution_count": 22,
   "id": "d5bf17a0",
   "metadata": {},
   "outputs": [
    {
     "name": "stdout",
     "output_type": "stream",
     "text": [
      "NAME          STATUS   VOLUME                                     CAPACITY   ACCESS MODES   STORAGECLASS           AGE\n",
      "pvc-seagate   Bound    pvc-702470fe-ae36-4da2-a8be-637123a473f0   1Gi        RWO            storageclass-seagate   25s\n"
     ]
    }
   ],
   "source": [
    "kubectl get pvc pvc-seagate -n demo"
   ]
  },
  {
   "cell_type": "markdown",
   "id": "69d66958",
   "metadata": {},
   "source": [
    "## Check newly created persistent volume in the enclosure UI\n",
    "![Volume Screenshot](pics/new_pv.png)"
   ]
  },
  {
   "cell_type": "markdown",
   "id": "0848937a",
   "metadata": {},
   "source": [
    "## Create a snapshot class"
   ]
  },
  {
   "cell_type": "code",
   "execution_count": 28,
   "id": "c25a4519",
   "metadata": {},
   "outputs": [
    {
     "name": "stdout",
     "output_type": "stream",
     "text": [
      "apiVersion: snapshot.storage.k8s.io/v1\n",
      "kind: VolumeSnapshotClass\n",
      "metadata:\n",
      "  name: snapshotclass-seagate\n",
      "driver: csi-exos-x.seagate.com\n",
      "deletionPolicy: Delete\n",
      "parameters:\n",
      "  csi.storage.k8s.io/snapshotter-secret-name: secret-seagate\n",
      "  csi.storage.k8s.io/snapshotter-secret-namespace: seagate\n",
      "  volPrefix: snp  # Prefix for snapshot volumes, an underscore is appended\n"
     ]
    }
   ],
   "source": [
    "cat iscsi/snapshot-class.yaml"
   ]
  },
  {
   "cell_type": "code",
   "execution_count": 29,
   "id": "d958b306",
   "metadata": {},
   "outputs": [
    {
     "name": "stdout",
     "output_type": "stream",
     "text": [
      "volumesnapshotclass.snapshot.storage.k8s.io/snapshotclass-seagate created\n"
     ]
    }
   ],
   "source": [
    "kubectl create -f iscsi/snapshot-class.yaml"
   ]
  },
  {
   "cell_type": "code",
   "execution_count": 30,
   "id": "3a503455",
   "metadata": {},
   "outputs": [
    {
     "name": "stdout",
     "output_type": "stream",
     "text": [
      "NAME                    DRIVER                   DELETIONPOLICY   AGE\n",
      "snapshotclass-seagate   csi-exos-x.seagate.com   Delete           3s\n"
     ]
    }
   ],
   "source": [
    "kubectl get volumesnapshotclass snapshotclass-seagate"
   ]
  },
  {
   "cell_type": "markdown",
   "id": "ca4e66e8",
   "metadata": {},
   "source": [
    "## Create a snapshot"
   ]
  },
  {
   "cell_type": "code",
   "execution_count": 31,
   "id": "48891fbe",
   "metadata": {},
   "outputs": [
    {
     "name": "stdout",
     "output_type": "stream",
     "text": [
      "apiVersion: snapshot.storage.k8s.io/v1\n",
      "kind: VolumeSnapshot\n",
      "metadata:\n",
      "  name: snapshot-seagate\n",
      "  namespace: demo\n",
      "spec:\n",
      "  volumeSnapshotClassName: snapshotclass-seagate\n",
      "  source:\n",
      "    persistentVolumeClaimName: pvc-seagate\n"
     ]
    }
   ],
   "source": [
    "cat iscsi/snapshot.yaml"
   ]
  },
  {
   "cell_type": "code",
   "execution_count": 1,
   "id": "146a8312",
   "metadata": {},
   "outputs": [
    {
     "name": "stdout",
     "output_type": "stream",
     "text": [
      "volumesnapshot.snapshot.storage.k8s.io/snapshot-seagate created\n"
     ]
    }
   ],
   "source": [
    "kubectl create -f iscsi/snapshot.yaml"
   ]
  },
  {
   "cell_type": "code",
   "execution_count": 2,
   "id": "c8c546a0",
   "metadata": {},
   "outputs": [
    {
     "name": "stdout",
     "output_type": "stream",
     "text": [
      "NAME               READYTOUSE   SOURCEPVC     SOURCESNAPSHOTCONTENT   RESTORESIZE   SNAPSHOTCLASS           SNAPSHOTCONTENT                                    CREATIONTIME   AGE\n",
      "snapshot-seagate   true         pvc-seagate                           2Mi           snapshotclass-seagate   snapcontent-569d06e5-b2d0-47dd-b6b2-78e14f7cd49a   7h9m           28s\n"
     ]
    }
   ],
   "source": [
    "kubectl get volumesnapshot snapshot-seagate -n demo"
   ]
  },
  {
   "cell_type": "markdown",
   "id": "02057026",
   "metadata": {},
   "source": [
    "## Check newly created snapshot in the enclosure UI\n",
    "![Snapshot Screenshot](pics/new_snapshot.png)"
   ]
  },
  {
   "cell_type": "markdown",
   "id": "f82e5ecc",
   "metadata": {},
   "source": [
    "## Create a new PVC from the snapshot (restore)"
   ]
  },
  {
   "cell_type": "code",
   "execution_count": 3,
   "id": "78eaf75c",
   "metadata": {},
   "outputs": [
    {
     "name": "stdout",
     "output_type": "stream",
     "text": [
      "apiVersion: v1\n",
      "kind: PersistentVolumeClaim\n",
      "metadata:\n",
      "  name: pvc-restore-seagate\n",
      "  namespace: demo\n",
      "spec:\n",
      "  dataSource:\n",
      "    name: snapshot-seagate\n",
      "    kind: VolumeSnapshot\n",
      "    apiGroup: \"snapshot.storage.k8s.io\"\n",
      "  accessModes:\n",
      "    - ReadWriteOnce\n",
      "  storageClassName: storageclass-seagate\n",
      "  resources:\n",
      "    requests:\n",
      "      storage: 1Gi\n"
     ]
    }
   ],
   "source": [
    "cat iscsi/restoresnapshot.yaml"
   ]
  },
  {
   "cell_type": "code",
   "execution_count": 4,
   "id": "8e394b49",
   "metadata": {},
   "outputs": [
    {
     "name": "stdout",
     "output_type": "stream",
     "text": [
      "persistentvolumeclaim/pvc-restore-seagate created\n"
     ]
    }
   ],
   "source": [
    "kubectl create -f iscsi/restoresnapshot.yaml"
   ]
  },
  {
   "cell_type": "markdown",
   "id": "40fd1c04",
   "metadata": {},
   "source": [
    "## Check restore pvc"
   ]
  },
  {
   "cell_type": "code",
   "execution_count": 6,
   "id": "93dced53",
   "metadata": {},
   "outputs": [
    {
     "name": "stdout",
     "output_type": "stream",
     "text": [
      "NAME                  STATUS   VOLUME                                     CAPACITY   ACCESS MODES   STORAGECLASS           AGE\n",
      "pvc-restore-seagate   Bound    pvc-a0bec410-38c8-42a8-aa70-b8828c59bdbf   1Gi        RWO            storageclass-seagate   22s\n"
     ]
    }
   ],
   "source": [
    "kubectl get pvc pvc-restore-seagate -n demo"
   ]
  },
  {
   "cell_type": "markdown",
   "id": "a48ce0fd",
   "metadata": {},
   "source": [
    "## Create a new PVC from the existing PVC (clone)"
   ]
  },
  {
   "cell_type": "code",
   "execution_count": 7,
   "id": "74c11881",
   "metadata": {},
   "outputs": [
    {
     "name": "stdout",
     "output_type": "stream",
     "text": [
      "apiVersion: v1\n",
      "kind: PersistentVolumeClaim\n",
      "metadata:\n",
      "  name: pvc-clone-seagate\n",
      "  namespace: demo\n",
      "spec:\n",
      "  dataSource:\n",
      "    name: pvc-seagate\n",
      "    kind: PersistentVolumeClaim\n",
      "  accessModes:\n",
      "    - ReadWriteOnce\n",
      "  storageClassName: storageclass-seagate\n",
      "  resources:\n",
      "    requests:\n",
      "      storage: 1Gi\n"
     ]
    }
   ],
   "source": [
    "cat iscsi/clonepvc.yaml"
   ]
  },
  {
   "cell_type": "code",
   "execution_count": 8,
   "id": "87d30764",
   "metadata": {},
   "outputs": [
    {
     "name": "stdout",
     "output_type": "stream",
     "text": [
      "persistentvolumeclaim/pvc-clone-seagate created\n"
     ]
    }
   ],
   "source": [
    "kubectl create -f iscsi/clonepvc.yaml"
   ]
  },
  {
   "cell_type": "code",
   "execution_count": 9,
   "id": "8d49bb61",
   "metadata": {},
   "outputs": [
    {
     "name": "stdout",
     "output_type": "stream",
     "text": [
      "NAME                STATUS   VOLUME                                     CAPACITY   ACCESS MODES   STORAGECLASS           AGE\n",
      "pvc-clone-seagate   Bound    pvc-f08a75fa-9f9a-4743-9ee2-a29f0b1a9ce3   1Gi        RWO            storageclass-seagate   12s\n"
     ]
    }
   ],
   "source": [
    "kubectl get pvc pvc-clone-seagate -n demo"
   ]
  },
  {
   "cell_type": "markdown",
   "id": "86f0610f",
   "metadata": {},
   "source": [
    "## Create a pod with the PVC attached"
   ]
  },
  {
   "cell_type": "code",
   "execution_count": 12,
   "id": "1439bea2",
   "metadata": {},
   "outputs": [
    {
     "name": "stdout",
     "output_type": "stream",
     "text": [
      "apiVersion: v1\n",
      "kind: Pod\n",
      "metadata:\n",
      "  name: pod-seagate\n",
      "  namespace: demo\n",
      "spec:\n",
      "  containers:\n",
      "  - image: gcr.io/google-containers/busybox:latest\n",
      "    name: theapp\n",
      "    volumeMounts:\n",
      "    - mountPath: /vol\n",
      "      name: volume-seagate\n",
      "    command: [ \"sleep\", \"1000\" ]\n",
      "  volumes:\n",
      "  - name: volume-seagate\n",
      "    persistentVolumeClaim:\n",
      "      claimName: pvc-seagate\n"
     ]
    }
   ],
   "source": [
    "cat iscsi/app.yaml"
   ]
  },
  {
   "cell_type": "code",
   "execution_count": 13,
   "id": "1fbf69d2",
   "metadata": {},
   "outputs": [
    {
     "name": "stdout",
     "output_type": "stream",
     "text": [
      "pod/pod-seagate created\n"
     ]
    }
   ],
   "source": [
    "kubectl create -f iscsi/app.yaml"
   ]
  },
  {
   "cell_type": "code",
   "execution_count": 14,
   "id": "134736df",
   "metadata": {},
   "outputs": [
    {
     "name": "stdout",
     "output_type": "stream",
     "text": [
      "NAME          READY   STATUS    RESTARTS   AGE\n",
      "pod-seagate   1/1     Running   0          33s\n"
     ]
    }
   ],
   "source": [
    "kubectl get pod pod-seagate -n demo"
   ]
  },
  {
   "cell_type": "code",
   "execution_count": 15,
   "id": "e9dce82b",
   "metadata": {},
   "outputs": [
    {
     "name": "stdout",
     "output_type": "stream",
     "text": [
      "Filesystem                Size      Used Available Use% Mounted on\n",
      "/dev/mapper/3600c0ff00028e6fc0900426101000000\n",
      "                        975.9M      2.5M    906.2M   0% /vol\n"
     ]
    }
   ],
   "source": [
    "kubectl exec -it pod-seagate -n demo -- df -h /vol"
   ]
  },
  {
   "cell_type": "markdown",
   "id": "e3416580",
   "metadata": {},
   "source": [
    "## Resize the PV"
   ]
  },
  {
   "cell_type": "markdown",
   "id": "07e95bd8",
   "metadata": {},
   "source": [
    "```\n",
    "kubectl edit pvc pvc-seagate -n demo\n",
    "```\n",
    "Replace 1Gi with new size (2Gi) in the spec:\n",
    "```\n",
    "spec:\n",
    "  accessModes:\n",
    "  - ReadWriteOnce\n",
    "  resources:\n",
    "    requests:\n",
    "      storage: 1Gi\n",
    "  storageClassName: seagate-storageclass-demo\n",
    "  volumeMode: Filesystem\n",
    "```"
   ]
  },
  {
   "cell_type": "code",
   "execution_count": 4,
   "id": "a66dd0b5",
   "metadata": {},
   "outputs": [
    {
     "name": "stdout",
     "output_type": "stream",
     "text": [
      "pod \"seagate-pod-pvc-demo\" deleted\n"
     ]
    }
   ],
   "source": [
    "# Command above results in volume resize\n",
    "# The pod must be restarted to complete file system resize \n",
    "kubectl delete -f iscsi/app.yaml"
   ]
  },
  {
   "cell_type": "code",
   "execution_count": 16,
   "id": "4a2e710b",
   "metadata": {},
   "outputs": [
    {
     "name": "stdout",
     "output_type": "stream",
     "text": [
      "pod/pod-seagate created\n"
     ]
    }
   ],
   "source": [
    "kubectl create -f iscsi/app.yaml"
   ]
  },
  {
   "cell_type": "code",
   "execution_count": 17,
   "id": "4b2a7bd7",
   "metadata": {},
   "outputs": [
    {
     "name": "stdout",
     "output_type": "stream",
     "text": [
      "NAME                                        STATUS   VOLUME                                     CAPACITY   ACCESS MODES   STORAGECLASS           AGE\n",
      "persistentvolumeclaim/pvc-clone-seagate     Bound    pvc-f08a75fa-9f9a-4743-9ee2-a29f0b1a9ce3   1Gi        RWO            storageclass-seagate   5m9s\n",
      "persistentvolumeclaim/pvc-restore-seagate   Bound    pvc-a0bec410-38c8-42a8-aa70-b8828c59bdbf   1Gi        RWO            storageclass-seagate   5m40s\n",
      "persistentvolumeclaim/pvc-seagate           Bound    pvc-702470fe-ae36-4da2-a8be-637123a473f0   2Gi        RWO            storageclass-seagate   88m\n",
      "\n",
      "NAME              READY   STATUS    RESTARTS   AGE\n",
      "pod/pod-seagate   1/1     Running   0          24s\n"
     ]
    }
   ],
   "source": [
    "# Notice PVC size changed to 2Gi\n",
    "kubectl get pvc,pod -n demo"
   ]
  },
  {
   "cell_type": "code",
   "execution_count": 19,
   "id": "ee2c8dc1",
   "metadata": {},
   "outputs": [
    {
     "name": "stdout",
     "output_type": "stream",
     "text": [
      "Filesystem                Size      Used Available Use% Mounted on\n",
      "/dev/mapper/3600c0ff00028e6fc0900426101000000\n",
      "                          1.9G      3.0M      1.8G   0% /vol\n"
     ]
    }
   ],
   "source": [
    "# And the filesystem is 1.9G now\n",
    "kubectl exec -it pod-seagate -n demo -- df -h /vol"
   ]
  },
  {
   "cell_type": "markdown",
   "id": "8bdd31e2",
   "metadata": {},
   "source": [
    "## Metrics\n",
    "Exos X CSI driver exports a variety of metrics which can be used to track usage and performance of the driver.\n",
    "By default, Controller exposes /metrics on port tcp/9842.\n",
    "Also, every Node exposes /healthz endpoint on port tcp/9808 which returns \"ok\"\n",
    "\n",
    "We'll publish a reference Prometheus query and Grafana dashboard in the future.\n",
    "For now, here is the query directly to the exporter "
   ]
  },
  {
   "cell_type": "code",
   "execution_count": 20,
   "id": "ba0a425e",
   "metadata": {},
   "outputs": [
    {
     "name": "stdout",
     "output_type": "stream",
     "text": [
      "# HELP exosx_api_appliance_api_call How many API calls have been executed\n",
      "# TYPE exosx_api_appliance_api_call counter\n",
      "exosx_api_appliance_api_call{endpoint=\"/copy/volume/destination-pool/%q/name/%q/%q\",success=\"true\"} 2\n",
      "exosx_api_appliance_api_call{endpoint=\"/create/snapshots/volumes/%q/%q\",success=\"true\"} 3\n",
      "exosx_api_appliance_api_call{endpoint=\"/delete/snapshot/%q\",success=\"true\"} 2\n",
      "exosx_api_appliance_api_call{endpoint=\"/expand/volume/size/\\\"%s\\\"/\\\"%s\\\"\",success=\"true\"} 1\n",
      "exosx_api_appliance_api_call{endpoint=\"/login/%s\",success=\"true\"} 1\n",
      "exosx_api_appliance_api_call{endpoint=\"/map/volume/access/%s/lun/%d/initiator/\\\"%s\\\"/\\\"%s\\\"\",success=\"true\"} 3\n",
      "exosx_api_appliance_api_call{endpoint=\"/show/controllers\",success=\"true\"} 1\n",
      "exosx_api_appliance_api_call{endpoint=\"/show/maps/%s\",success=\"true\"} 3\n"
     ]
    }
   ],
   "source": [
    "# Define IP of the Controller pod\n",
    "CTRL_IP=`kubectl get pod -n seagate -o wide  | grep seagate-exos-x-csi-controller | awk '{print $6}'`\n",
    "# use curl to query the pod\n",
    "curl -s http://$CTRL_IP:9842/metrics | head\n"
   ]
  },
  {
   "cell_type": "markdown",
   "id": "229d9211",
   "metadata": {},
   "source": [
    "### Configure Prometheus to collect CSI driver metrics\n",
    "```\n",
    "kubectl edit cm prometheus-server -n monitoring\n",
    "\n",
    "    - job_name: seagate-exos-x-csi-controller\n",
    "      scrape_interval: 10s\n",
    "      kubernetes_sd_configs:\n",
    "      - role: pod\n",
    "        namespaces:\n",
    "          names:\n",
    "          - seagate\n",
    "        selectors:\n",
    "        - role: \"pod\"\n",
    "          label: \"app=seagate-exos-x-csi-controller-server\"\n",
    "      relabel_configs:\n",
    "      - source_labels: [__address__]\n",
    "        separator: ':'\n",
    "        regex: '([^:]+).*'\n",
    "        replacement: '${1}:9842'\n",
    "        target_label: __address__\n",
    "```"
   ]
  },
  {
   "cell_type": "markdown",
   "id": "68a7653b",
   "metadata": {},
   "source": [
    "### Query Prometheus to see amount of CSI requests and the amount of corresponding Seagate Exos X API calls\n",
    "![Prometheus_Graph](pics/exos-x-csi-prometheus-query.png)"
   ]
  },
  {
   "cell_type": "markdown",
   "id": "1e060651",
   "metadata": {},
   "source": [
    "## Clean everything"
   ]
  },
  {
   "cell_type": "code",
   "execution_count": 21,
   "id": "aa1f6183",
   "metadata": {},
   "outputs": [
    {
     "name": "stdout",
     "output_type": "stream",
     "text": [
      "pod \"pod-seagate\" deleted\n"
     ]
    }
   ],
   "source": [
    "kubectl delete -f iscsi/app.yaml"
   ]
  },
  {
   "cell_type": "code",
   "execution_count": 22,
   "id": "851f53b2",
   "metadata": {},
   "outputs": [
    {
     "name": "stdout",
     "output_type": "stream",
     "text": [
      "persistentvolumeclaim \"pvc-clone-seagate\" deleted\n"
     ]
    }
   ],
   "source": [
    "kubectl delete -f iscsi/clonepvc.yaml"
   ]
  },
  {
   "cell_type": "code",
   "execution_count": 23,
   "id": "400e8c20",
   "metadata": {},
   "outputs": [
    {
     "name": "stdout",
     "output_type": "stream",
     "text": [
      "persistentvolumeclaim \"pvc-restore-seagate\" deleted\n"
     ]
    }
   ],
   "source": [
    "kubectl delete -f iscsi/restoresnapshot.yaml"
   ]
  },
  {
   "cell_type": "code",
   "execution_count": 24,
   "id": "ababcccf",
   "metadata": {},
   "outputs": [
    {
     "name": "stdout",
     "output_type": "stream",
     "text": [
      "volumesnapshot.snapshot.storage.k8s.io \"snapshot-seagate\" deleted\n"
     ]
    }
   ],
   "source": [
    "# There is a bug in the current version, snapshot is not actually deleted on the enclosure\n",
    "kubectl delete -f iscsi/snapshot.yaml"
   ]
  },
  {
   "cell_type": "code",
   "execution_count": 25,
   "id": "bba769d8",
   "metadata": {},
   "outputs": [
    {
     "name": "stdout",
     "output_type": "stream",
     "text": [
      "persistentvolumeclaim \"pvc-seagate\" deleted\n"
     ]
    }
   ],
   "source": [
    "kubectl delete -f iscsi/pvc.yaml"
   ]
  },
  {
   "cell_type": "code",
   "execution_count": 26,
   "id": "33ea12f6",
   "metadata": {},
   "outputs": [
    {
     "name": "stdout",
     "output_type": "stream",
     "text": [
      "volumesnapshotclass.snapshot.storage.k8s.io \"snapshotclass-seagate\" deleted\n"
     ]
    }
   ],
   "source": [
    "kubectl delete -f iscsi/snapshot-class.yaml"
   ]
  },
  {
   "cell_type": "code",
   "execution_count": 27,
   "id": "b926ef26",
   "metadata": {},
   "outputs": [
    {
     "name": "stdout",
     "output_type": "stream",
     "text": [
      "storageclass.storage.k8s.io \"storageclass-seagate\" deleted\n"
     ]
    }
   ],
   "source": [
    "kubectl delete -f iscsi/storage-class.yaml"
   ]
  },
  {
   "cell_type": "code",
   "execution_count": 28,
   "id": "958a1d5a",
   "metadata": {},
   "outputs": [
    {
     "name": "stdout",
     "output_type": "stream",
     "text": [
      "release \"seagate-csi\" uninstalled\n"
     ]
    }
   ],
   "source": [
    "helm uninstall seagate-csi -n seagate"
   ]
  },
  {
   "cell_type": "code",
   "execution_count": 29,
   "id": "3f921c38",
   "metadata": {},
   "outputs": [],
   "source": [
    "rm -rf seagate-exos-x-csi"
   ]
  },
  {
   "cell_type": "markdown",
   "id": "a03362be",
   "metadata": {},
   "source": [
    "## Future functionality\n",
    "* Storage Class parameters update\n",
    "* OpenShift operator\n",
    "----\n",
    "* Additional parameters in StorageClass definition\n",
    "* Managing multiple enclosures / pools via single StorageClass\n",
    "* Topology \n",
    "* Capacity\n",
    "* Import a volume\n",
    "* Raw block device\n",
    "* iSCSI CHAP\n",
    "* SAS and NVMe connectivity support\n",
    "* Support for Windows"
   ]
  },
  {
   "cell_type": "code",
   "execution_count": null,
   "id": "89f370fc",
   "metadata": {},
   "outputs": [],
   "source": []
  }
 ],
 "metadata": {
  "kernelspec": {
   "display_name": "Bash",
   "language": "bash",
   "name": "bash"
  },
  "language_info": {
   "codemirror_mode": "shell",
   "file_extension": ".sh",
   "mimetype": "text/x-sh",
   "name": "bash"
  }
 },
 "nbformat": 4,
 "nbformat_minor": 5
}
